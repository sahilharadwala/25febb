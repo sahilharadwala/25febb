{
 "cells": [
  {
   "cell_type": "code",
   "execution_count": 4,
   "id": "a8a9d64f-5603-44d8-84e9-7b55faa5e012",
   "metadata": {},
   "outputs": [
    {
     "data": {
      "text/plain": [
       "course_name    Big Data\n",
       "duration              6\n",
       "Name: 2, dtype: object"
      ]
     },
     "execution_count": 4,
     "metadata": {},
     "output_type": "execute_result"
    }
   ],
   "source": [
    "# Q1. Write a code to print the data present in the second row of the dataframe, df.\n",
    "import pandas as pd\n",
    "course_name = [\"Data Science\", \"Machine Learning\", \"Big Data\", \"Data Engineer\"]\n",
    "duration =  [2,3,6,4]\n",
    "df = pd.DataFrame(data = {\"course_name\" : course_name, \"duration\" : duration})\n",
    "df.iloc[2]"
   ]
  },
  {
   "cell_type": "markdown",
   "id": "27673459-0f10-4529-a82e-5547b39db1fb",
   "metadata": {},
   "source": [
    "# Q2. What is the difference between the functions loc and iloc in pandas.DataFrame?\n",
    "loc is uses for labeled based indexing and iloc is used for functuon indexilng "
   ]
  },
  {
   "cell_type": "code",
   "execution_count": 56,
   "id": "eadd3759-f3ea-4bda-a119-16a8b1329285",
   "metadata": {},
   "outputs": [
    {
     "data": {
      "text/plain": [
       "course_name    Machine Learning\n",
       "duration                      3\n",
       "Name: 1, dtype: object"
      ]
     },
     "execution_count": 56,
     "metadata": {},
     "output_type": "execute_result"
    }
   ],
   "source": [
    "# Q3. Reindex the given dataframe using a variable, reindex = [3,0,1,2] and store it in the variable, new_dfthen find the output for both new_df.loc[2] and new_df.iloc[2]\n",
    "newdf=df.reindex([3,0,1,2])\n",
    "newdf\n",
    "\n",
    "newdf.loc[2]\n",
    "newdf.iloc[2]"
   ]
  },
  {
   "cell_type": "code",
   "execution_count": 66,
   "id": "53b2ddc3-e46f-41c6-9115-e500064e532c",
   "metadata": {},
   "outputs": [
    {
     "data": {
      "text/plain": [
       "0.3246095896043908"
      ]
     },
     "execution_count": 66,
     "metadata": {},
     "output_type": "execute_result"
    }
   ],
   "source": [
    "import pandas as pd\n",
    "import numpy as np\n",
    "columns = ['column_1', 'column_2', 'column_3', 'column_4', 'column_5', 'column_6']\n",
    "indices = [1,2,3,4,5,6]\n",
    "df1 = pd.DataFrame(np.random.rand(6,6), columns = columns, index = indices)\n",
    "df1\n",
    "#Q4. Write a code to find the following statistical measurements for the above dataframe df1:\n",
    "\n",
    "#(i) \tmean of each and every column present in the dataframe.\n",
    "df1.mean()\n",
    "\n",
    "#(ii) standard deviation of column, ‘column_2’\n",
    "df1.std()\n",
    "df1.column_2.std()"
   ]
  },
  {
   "cell_type": "code",
   "execution_count": 74,
   "id": "6696325f-f3df-44a2-b176-09dc42218379",
   "metadata": {},
   "outputs": [
    {
     "name": "stdout",
     "output_type": "stream",
     "text": [
      "Error: can only concatenate str (not \"float\") to str\n"
     ]
    }
   ],
   "source": [
    "#Q5. Replace the data present in the second row of column, ‘column_2’ by a string variable then find themean of column, column_2.If you are getting errors in executing it then explain why.[Hint: To replace the data use df1.loc[] and equate this to string data of your choice.]\n",
    "df1.loc[1, 'column_2'] = \"replaced\"\n",
    "\n",
    "try:\n",
    "    mean_value = df1['column_2'].mean()\n",
    "    print(\"Mean of column_2:\", mean_value)\n",
    "except Exception as e:\n",
    "    print(\"Error:\", e)"
   ]
  },
  {
   "cell_type": "markdown",
   "id": "f3d48216-8189-4aad-b17d-33c62055e52a",
   "metadata": {},
   "source": [
    "#Q6. What do you understand about the windows function in pandas and list the types of windowsfunctions?\n",
    "Windows function in Pandas can be broadly divided into three categories namely- Aggregate, Ranking, and Value. The group by aggregate function can be used to partition and group the entire data frame by some column. We can specify the column name in the parameter of the pandas"
   ]
  },
  {
   "cell_type": "code",
   "execution_count": 3,
   "id": "0931333c-f91b-47e7-94d9-7f7108e38ab0",
   "metadata": {},
   "outputs": [
    {
     "data": {
      "text/plain": [
       "datetime.datetime(2025, 1, 2, 14, 11, 3, 959340)"
      ]
     },
     "execution_count": 3,
     "metadata": {},
     "output_type": "execute_result"
    }
   ],
   "source": [
    "# Q7. Write a code to print only the current month and year at the time of answering this question.\n",
    "from datetime import datetime\n",
    "t=datetime.now()\n",
    "t"
   ]
  },
  {
   "cell_type": "code",
   "execution_count": 25,
   "id": "f1f816ec-bfa2-49b4-9f72-bebcba0b0ba4",
   "metadata": {},
   "outputs": [
    {
     "name": "stdin",
     "output_type": "stream",
     "text": [
      "enter the in the format  YYYY-MM-DD 2044-09-06\n",
      "enter the in the format  YYYY-MM-DD 2041-08-06\n"
     ]
    },
    {
     "name": "stdout",
     "output_type": "stream",
     "text": [
      "1127 0 0\n"
     ]
    }
   ],
   "source": [
    "\"\"\"Q8. Write a Python program that takes in two dates as input (in the format YYYY-MM-DD) and\n",
    "calculates the difference between them in days, hours, and minutes using Pandas time delta. The\n",
    "program should prompt the user to enter the dates and display the result.\"\"\"\n",
    "\n",
    "df=pd.to_datetime(input(\"enter the in the format  YYYY-MM-DD\"))\n",
    "df2=pd.to_datetime(input(\"enter the in the format  YYYY-MM-DD\"))\n",
    "a=abs(df-df2)\n",
    "days=a.days\n",
    "hour,sec=divmod(a.seconds,3600)\n",
    "minuts=a.seconds//60\n",
    "print(days,hour,sec)"
   ]
  },
  {
   "cell_type": "code",
   "execution_count": null,
   "id": "3043b6af-8fb6-4beb-a927-81d06101dfc0",
   "metadata": {},
   "outputs": [],
   "source": [
    "import pandas as pd\n",
    "\n",
    "def main():\n",
    "    try:\n",
    "        file_path = input(\"Enter the path to the CSV file: \")\n",
    "        \n",
    "        df = pd.read_csv(file_path)\n",
    "        print(\"\\nColumns in the dataset:\")\n",
    "        print(df.columns.tolist())\n",
    "\n",
    "        column_name = input(\"\\nEnter the name of the column to convert to categorical: \")\n",
    "        if column_name not in df.columns:\n",
    "            print(f\"Column '{column_name}' not found in the dataset.\")\n",
    "            return\n",
    "\n",
    "        category_order = input(\"\\nEnter the category order as a comma-separated list (e.g., 'low,medium,high'): \")\n",
    "        category_order = [item.strip() for item in category_order.split(',')]\n",
    "\n",
    "        df[column_name] = pd.Categorical(df[column_name], categories=category_order, ordered=True)\n",
    "\n",
    "        sorted_df = df.sort_values(by=column_name)\n",
    "\n",
    "        print(\"\\nSorted Data:\")\n",
    "        print(sorted_df)\n",
    "\n",
    "    except FileNotFoundError:\n",
    "        print(\"Error: File not found. Please check the file path and try again.\")\n",
    "    except Exception as e:\n",
    "        print(f\"An error occurred: {e}\")\n",
    "\n",
    "if __name__ == \"__main__\":\n",
    "    main()\n"
   ]
  },
  {
   "cell_type": "code",
   "execution_count": null,
   "id": "8581a6e0-50f6-40a4-bfee-b9ab141f0fc6",
   "metadata": {},
   "outputs": [],
   "source": [
    "import pandas as pd\n",
    "import matplotlib.pyplot as plt\n",
    "\n",
    "def plot_stacked_bar_chart(file_path):\n",
    "    try:\n",
    "        data = pd.read_csv(file_path)\n",
    "\n",
    "        required_columns = {'Date', 'Product Category', 'Sales'}\n",
    "        if not required_columns.issubset(data.columns):\n",
    "            raise ValueError(f\"CSV file must contain the following columns: {required_columns}\")\n",
    "\n",
    "        pivot_table = data.pivot_table(\n",
    "            index='Date',\n",
    "            columns='Product Category',\n",
    "            values='Sales',\n",
    "            aggfunc='sum',\n",
    "            fill_value=0\n",
    "        )\n",
    "\n",
    "        pivot_table.plot(kind='bar', stacked=True, figsize=(10, 6))\n",
    "\n",
    "        plt.title('Sales by Product Category Over Time')\n",
    "        plt.xlabel('Date')\n",
    "        plt.ylabel('Sales')\n",
    "        plt.xticks(rotation=45)\n",
    "        plt.legend(title='Product Category')\n",
    "        plt.tight_layout()\n",
    "\n",
    "        plt.show()\n",
    "\n",
    "    except FileNotFoundError:\n",
    "        print(\"Error: The specified file path does not exist.\")\n",
    "    except pd.errors.EmptyDataError:\n",
    "        print(\"Error: The file is empty or invalid.\")\n",
    "    except ValueError as e:\n",
    "        print(f\"Error: {e}\")\n",
    "    except Exception as e:\n",
    "        print(f\"An unexpected error occurred: {e}\")\n",
    "\n",
    "if __name__ == \"__main__\":\n",
    "    file_path = input(\"Enter the path to the sales data CSV file: \")\n",
    "    plot_stacked_bar_chart(file_path)"
   ]
  },
  {
   "cell_type": "code",
   "execution_count": null,
   "id": "fded00d3-f7f7-4ef4-881f-33313497f5b0",
   "metadata": {},
   "outputs": [],
   "source": [
    "import pandas as pd\n",
    "from statistics import mode, StatisticsError\n",
    "\n",
    "def calculate_statistics(file_path):\n",
    "    try:\n",
    "        df = pd.read_csv(file_path)\n",
    "        \n",
    "        if 'Test Score' not in df.columns:\n",
    "            print(\"Error: The CSV file does not contain a 'Test Score' column.\")\n",
    "            return\n",
    "        \n",
    "        mean = df['Test Score'].mean()\n",
    "        median = df['Test Score'].median()\n",
    "        \n",
    "        try:\n",
    "            mode_value = df['Test Score'].mode().tolist()  # Get all modes as a list\n",
    "            mode_str = \", \".join(map(str, mode_value))\n",
    "        except StatisticsError:\n",
    "            mode_str = \"No unique mode\"\n",
    "        \n",
    "        print(\"\\n+-----------+--------+\")\n",
    "        print(\"| Statistic | Value  |\")\n",
    "        print(\"+-----------+--------+\")\n",
    "        print(f\"| Mean      | {mean:.1f}   |\")\n",
    "        print(f\"| Median    | {median:.0f}   |\")\n",
    "        print(f\"| Mode      | {mode_str} |\")\n",
    "        print(\"+-----------+--------+\")\n",
    "    \n",
    "    except FileNotFoundError:\n",
    "        print(\"Error: The file was not found.\")\n",
    "    except pd.errors.EmptyDataError:\n",
    "        print(\"Error: The file is empty or invalid.\")\n",
    "    except Exception as e:\n",
    "        print(f\"An error occurred: {e}\")\n",
    "\n",
    "if __name__ == \"__main__\":\n",
    "    file_path = input(\"Enter the file path of the CSV file containing the student data: \").strip()\n",
    "    calculate_statistics(file_path)\n"
   ]
  }
 ],
 "metadata": {
  "kernelspec": {
   "display_name": "Python 3 (ipykernel)",
   "language": "python",
   "name": "python3"
  },
  "language_info": {
   "codemirror_mode": {
    "name": "ipython",
    "version": 3
   },
   "file_extension": ".py",
   "mimetype": "text/x-python",
   "name": "python",
   "nbconvert_exporter": "python",
   "pygments_lexer": "ipython3",
   "version": "3.12.7"
  }
 },
 "nbformat": 4,
 "nbformat_minor": 5
}
